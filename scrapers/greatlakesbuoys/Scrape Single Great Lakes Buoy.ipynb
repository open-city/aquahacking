{
 "cells": [
  {
   "cell_type": "code",
   "execution_count": 1,
   "metadata": {
    "collapsed": true
   },
   "outputs": [],
   "source": [
    "import pandas as pd\n",
    "from bs4 import BeautifulSoup\n",
    "import requests\n",
    "import numpy as np"
   ]
  },
  {
   "cell_type": "code",
   "execution_count": 2,
   "metadata": {
    "collapsed": true
   },
   "outputs": [],
   "source": [
    "# The name on the page, the name we want to use\n",
    "columns_of_interest = {'ID': 'id', 'DATE': 'timestamp', 'YSIBGARFU': 'blue_green_algae',\n",
    "                      'YSITEMP': 'water_temperature'}"
   ]
  },
  {
   "cell_type": "code",
   "execution_count": 3,
   "metadata": {
    "collapsed": true
   },
   "outputs": [],
   "source": [
    "def update_df_to_floats(data, exclusion_list):\n",
    "    for column in data.columns:\n",
    "        if column not in exclusion_list:\n",
    "            data[column] = data[column].astype(float)\n",
    "    return data"
   ]
  },
  {
   "cell_type": "code",
   "execution_count": 4,
   "metadata": {
    "collapsed": true
   },
   "outputs": [],
   "source": [
    "def build_df_from_data_ta(raw_rows):\n",
    "    data = []\n",
    "    \n",
    "    headings = [_.text.split('(')[0] for _ in raw_rows[1].findAll('th')]\n",
    "    significant_columns = {}\n",
    "    for i, heading in enumerate(headings):\n",
    "        if heading in [_ for _ in columns_of_interest]:\n",
    "            significant_columns[i] = columns_of_interest[heading]\n",
    "    print(significant_columns)\n",
    "    for row_raw in raw_rows[2:]:\n",
    "\n",
    "        row = [_.text for _ in row_raw.findAll('td')]\n",
    "        data.append({significant_columns[column]: row[column] for column in significant_columns.keys()})\n",
    "    data = pd.DataFrame(data)\n",
    "    data = data.replace(to_replace=r'-', value=np.nan).replace(to_replace=r'---', value=np.nan)\n",
    "    # data = update_df_to_floats(data, ['id', 'mean_wave_direction', 'wind_direction', 'timestamp'])\n",
    "    # data['timestamp'] = pd.to_datetime(data['timestamp'])\n",
    "    return data"
   ]
  },
  {
   "cell_type": "code",
   "execution_count": 8,
   "metadata": {
    "collapsed": true
   },
   "outputs": [],
   "source": [
    "def scrape_buoy_data(buoy_id):\n",
    "    url = 'http://greatlakesbuoys.org/station_page.php?station=%s&unit=E&tz=GMT' % str(buoy_id)\n",
    "    result = requests.get(url)\n",
    "    if result.status_code != 200:\n",
    "        print(\"error on status code\")\n",
    "    soup = BeautifulSoup(result.content, \"html5lib\")\n",
    "    raw_rows = soup.find(id=\"prevNObs\").find('table').findAll('tr')\n",
    "    data = build_df_from_data_ta(raw_rows)\n",
    "    data['buoy_id'] = buoy_id\n",
    "    return data"
   ]
  },
  {
   "cell_type": "code",
   "execution_count": 9,
   "metadata": {},
   "outputs": [
    {
     "name": "stdout",
     "output_type": "stream",
     "text": [
      "{0: 'id', 1: 'timestamp', 14: 'blue_green_algae'}\n"
     ]
    },
    {
     "data": {
      "text/html": [
       "<div>\n",
       "<style>\n",
       "    .dataframe thead tr:only-child th {\n",
       "        text-align: right;\n",
       "    }\n",
       "\n",
       "    .dataframe thead th {\n",
       "        text-align: left;\n",
       "    }\n",
       "\n",
       "    .dataframe tbody tr th {\n",
       "        vertical-align: top;\n",
       "    }\n",
       "</style>\n",
       "<table border=\"1\" class=\"dataframe\">\n",
       "  <thead>\n",
       "    <tr style=\"text-align: right;\">\n",
       "      <th></th>\n",
       "      <th>blue_green_algae</th>\n",
       "      <th>id</th>\n",
       "      <th>timestamp</th>\n",
       "      <th>buoy_id</th>\n",
       "    </tr>\n",
       "  </thead>\n",
       "  <tbody>\n",
       "    <tr>\n",
       "      <th>0</th>\n",
       "      <td>0.36</td>\n",
       "      <td>55613</td>\n",
       "      <td>11/10/2016 18:30:00</td>\n",
       "      <td>crib</td>\n",
       "    </tr>\n",
       "    <tr>\n",
       "      <th>1</th>\n",
       "      <td>0.36</td>\n",
       "      <td>55612</td>\n",
       "      <td>11/10/2016 18:20:00</td>\n",
       "      <td>crib</td>\n",
       "    </tr>\n",
       "    <tr>\n",
       "      <th>2</th>\n",
       "      <td>0.36</td>\n",
       "      <td>55611</td>\n",
       "      <td>11/10/2016 18:10:00</td>\n",
       "      <td>crib</td>\n",
       "    </tr>\n",
       "    <tr>\n",
       "      <th>3</th>\n",
       "      <td>0.36</td>\n",
       "      <td>55610</td>\n",
       "      <td>11/10/2016 18:00:00</td>\n",
       "      <td>crib</td>\n",
       "    </tr>\n",
       "    <tr>\n",
       "      <th>4</th>\n",
       "      <td>0.36</td>\n",
       "      <td>55609</td>\n",
       "      <td>11/10/2016 17:50:00</td>\n",
       "      <td>crib</td>\n",
       "    </tr>\n",
       "  </tbody>\n",
       "</table>\n",
       "</div>"
      ],
      "text/plain": [
       "  blue_green_algae     id            timestamp buoy_id\n",
       "0             0.36  55613  11/10/2016 18:30:00    crib\n",
       "1             0.36  55612  11/10/2016 18:20:00    crib\n",
       "2             0.36  55611  11/10/2016 18:10:00    crib\n",
       "3             0.36  55610  11/10/2016 18:00:00    crib\n",
       "4             0.36  55609  11/10/2016 17:50:00    crib"
      ]
     },
     "execution_count": 9,
     "metadata": {},
     "output_type": "execute_result"
    }
   ],
   "source": [
    "result = scrape_buoy_data('crib')\n",
    "result.head()"
   ]
  },
  {
   "cell_type": "code",
   "execution_count": 10,
   "metadata": {
    "scrolled": true
   },
   "outputs": [
    {
     "name": "stdout",
     "output_type": "stream",
     "text": [
      "{0: 'id', 1: 'timestamp', 22: 'water_temperature', 28: 'blue_green_algae'}\n"
     ]
    },
    {
     "data": {
      "text/html": [
       "<div>\n",
       "<style>\n",
       "    .dataframe thead tr:only-child th {\n",
       "        text-align: right;\n",
       "    }\n",
       "\n",
       "    .dataframe thead th {\n",
       "        text-align: left;\n",
       "    }\n",
       "\n",
       "    .dataframe tbody tr th {\n",
       "        vertical-align: top;\n",
       "    }\n",
       "</style>\n",
       "<table border=\"1\" class=\"dataframe\">\n",
       "  <thead>\n",
       "    <tr style=\"text-align: right;\">\n",
       "      <th></th>\n",
       "      <th>blue_green_algae</th>\n",
       "      <th>id</th>\n",
       "      <th>timestamp</th>\n",
       "      <th>water_temperature</th>\n",
       "      <th>buoy_id</th>\n",
       "    </tr>\n",
       "  </thead>\n",
       "  <tbody>\n",
       "    <tr>\n",
       "      <th>0</th>\n",
       "      <td>NaN</td>\n",
       "      <td>28733</td>\n",
       "      <td>05/18/2017 20:40:00</td>\n",
       "      <td>32</td>\n",
       "      <td>45176</td>\n",
       "    </tr>\n",
       "    <tr>\n",
       "      <th>1</th>\n",
       "      <td>NaN</td>\n",
       "      <td>28732</td>\n",
       "      <td>05/18/2017 20:30:00</td>\n",
       "      <td>32</td>\n",
       "      <td>45176</td>\n",
       "    </tr>\n",
       "    <tr>\n",
       "      <th>2</th>\n",
       "      <td>NaN</td>\n",
       "      <td>28731</td>\n",
       "      <td>05/18/2017 20:20:00</td>\n",
       "      <td>32</td>\n",
       "      <td>45176</td>\n",
       "    </tr>\n",
       "    <tr>\n",
       "      <th>3</th>\n",
       "      <td>NaN</td>\n",
       "      <td>28730</td>\n",
       "      <td>05/18/2017 20:10:00</td>\n",
       "      <td>32</td>\n",
       "      <td>45176</td>\n",
       "    </tr>\n",
       "    <tr>\n",
       "      <th>4</th>\n",
       "      <td>NaN</td>\n",
       "      <td>28729</td>\n",
       "      <td>05/18/2017 20:00:00</td>\n",
       "      <td>32</td>\n",
       "      <td>45176</td>\n",
       "    </tr>\n",
       "  </tbody>\n",
       "</table>\n",
       "</div>"
      ],
      "text/plain": [
       "   blue_green_algae     id            timestamp water_temperature  buoy_id\n",
       "0               NaN  28733  05/18/2017 20:40:00                32    45176\n",
       "1               NaN  28732  05/18/2017 20:30:00                32    45176\n",
       "2               NaN  28731  05/18/2017 20:20:00                32    45176\n",
       "3               NaN  28730  05/18/2017 20:10:00                32    45176\n",
       "4               NaN  28729  05/18/2017 20:00:00                32    45176"
      ]
     },
     "execution_count": 10,
     "metadata": {},
     "output_type": "execute_result"
    }
   ],
   "source": [
    "result = scrape_buoy_data(45176)\n",
    "result.head()"
   ]
  },
  {
   "cell_type": "code",
   "execution_count": null,
   "metadata": {
    "collapsed": true
   },
   "outputs": [],
   "source": []
  }
 ],
 "metadata": {
  "kernelspec": {
   "display_name": "Python 3",
   "language": "python",
   "name": "python3"
  },
  "language_info": {
   "codemirror_mode": {
    "name": "ipython",
    "version": 3
   },
   "file_extension": ".py",
   "mimetype": "text/x-python",
   "name": "python",
   "nbconvert_exporter": "python",
   "pygments_lexer": "ipython3",
   "version": "3.6.0"
  }
 },
 "nbformat": 4,
 "nbformat_minor": 2
}
