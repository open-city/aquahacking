{
 "cells": [
  {
   "cell_type": "code",
   "execution_count": 1,
   "metadata": {
    "collapsed": true
   },
   "outputs": [],
   "source": [
    "import pandas as pd\n",
    "from bs4 import BeautifulSoup\n",
    "import requests\n",
    "import numpy as np"
   ]
  },
  {
   "cell_type": "code",
   "execution_count": 3,
   "metadata": {
    "collapsed": true
   },
   "outputs": [],
   "source": [
    "buoy_id = 45176\n",
    "url = 'http://greatlakesbuoys.org/select_range.php?station=' + str(buoy_id)\n",
    "result = requests.get(url)\n",
    "if result.status_code != 200:\n",
    "    print(\"error on status code\")\n",
    "soup = BeautifulSoup(result.content, \"html5lib\")"
   ]
  },
  {
   "cell_type": "code",
   "execution_count": 7,
   "metadata": {},
   "outputs": [
    {
     "data": {
      "text/plain": [
       "<form ;=\"\" action=\"genData.php\" id=\"dateForm\" method=\"post\" onsubmit=\"return validateForm(this)\"> \n",
       "\n",
       "\n",
       "<b>Instructions:</b><br/>\n",
       "To download buoy data, please select the desired start date and end date of the data to be downloaded.  <br/>Next, click on \"Get Data\" to initiate a download of a\n",
       "comma-seperated value (CSV) file including all buoy data collected between the selected dates.<br/><br/>\n",
       "<br/>\n",
       "Download the full list of field descriptions <a href=\"./FieldDescriptions.txt\"> here</a>.<br/><br/>\n",
       "\n",
       "\n",
       "\n",
       "-First date available: 06/07/2016 12:40:00<br/>Latest date available: 05/13/2017 18:40:00<br/><br/>\n",
       "<table>\n",
       "<tbody><tr><td><b>Select start date:</b></td></tr>\n",
       "<tr><td>  \n",
       "\n",
       "Month:\n",
       "<select id=\"startMonth\" name=\"startMonth\">\n",
       "<option value=\"00\">--\n",
       "</option><option value=\"01\">Jan\n",
       "</option><option value=\"02\">Feb\n",
       "</option><option value=\"03\">Mar\n",
       "</option><option value=\"04\">Apr\n",
       "</option><option value=\"05\">May\n",
       "</option><option value=\"06\">Jun\n",
       "</option><option value=\"07\">Jul\n",
       "</option><option value=\"08\">Aug\n",
       "</option><option value=\"09\">Sep\n",
       "</option><option value=\"10\">Oct\n",
       "</option><option value=\"11\">Nov\n",
       "</option><option value=\"12\">Dec\n",
       "</option></select>\n",
       "\n",
       "Day:\n",
       "<select id=\"startDay\" name=\"startDay\">\n",
       "<option value=\"00\">--\n",
       "</option><option value=\"1\">1\n",
       "</option><option value=\"2\">2\n",
       "</option><option value=\"3\">3\n",
       "</option><option value=\"4\">4\n",
       "</option><option value=\"5\">5\n",
       "</option><option value=\"6\">6\n",
       "</option><option value=\"7\">7\n",
       "</option><option value=\"8\">8\n",
       "</option><option value=\"9\">9\n",
       "</option><option value=\"10\">10\n",
       "</option><option value=\"11\">11\n",
       "</option><option value=\"12\">12\n",
       "</option><option value=\"13\">13\n",
       "</option><option value=\"14\">14\n",
       "</option><option value=\"15\">15\n",
       "</option><option value=\"16\">16\n",
       "</option><option value=\"17\">17\n",
       "</option><option value=\"18\">18\n",
       "</option><option value=\"19\">19\n",
       "</option><option value=\"20\">20\n",
       "</option><option value=\"21\">21\n",
       "</option><option value=\"22\">22\n",
       "</option><option value=\"23\">23\n",
       "</option><option value=\"24\">24\n",
       "</option><option value=\"25\">25\n",
       "</option><option value=\"26\">26\n",
       "</option><option value=\"27\">27\n",
       "</option><option value=\"28\">28\n",
       "</option><option value=\"29\">29\n",
       "</option><option value=\"30\">30\n",
       "</option><option value=\"31\">31\n",
       "</option></select>\n",
       "\n",
       "Year:\n",
       "<select id=\"startYear\" name=\"startYear\">\n",
       "<option value=\"0000\">----\n",
       "</option><option value=\"2009\">2009\n",
       "</option><option value=\"2010\">2010\n",
       "</option><option value=\"2011\">2011\n",
       "</option><option value=\"2012\">2012\n",
       "</option><option value=\"2013\">2013\n",
       "</option><option value=\"2014\">2014\n",
       "</option><option value=\"2015\">2015\n",
       "</option><option value=\"2016\">2016\n",
       "</option><option value=\"2017\">2017\n",
       "</option></select>\n",
       "</td></tr>\n",
       "<tr><td></td></tr>\n",
       "<tr><td><b>Select end date:</b></td></tr>\n",
       "<tr><td>  \n",
       "\n",
       "Month:\n",
       "<select id=\"endMonth\" name=\"endMonth\">\n",
       "<option value=\"00\">--\n",
       "</option><option value=\"01\">Jan\n",
       "</option><option value=\"02\">Feb\n",
       "</option><option value=\"03\">Mar\n",
       "</option><option value=\"04\">Apr\n",
       "</option><option value=\"05\">May\n",
       "</option><option value=\"06\">Jun\n",
       "</option><option value=\"07\">Jul\n",
       "</option><option value=\"08\">Aug\n",
       "</option><option value=\"09\">Sep\n",
       "</option><option value=\"10\">Oct\n",
       "</option><option value=\"11\">Nov\n",
       "</option><option value=\"12\">Dec\n",
       "</option></select>\n",
       "\n",
       "Day:\n",
       "<select id=\"endDay\" name=\"endDay\">\n",
       "<option value=\"00\">--\n",
       "</option><option value=\"1\">1\n",
       "</option><option value=\"2\">2\n",
       "</option><option value=\"3\">3\n",
       "</option><option value=\"4\">4\n",
       "</option><option value=\"5\">5\n",
       "</option><option value=\"6\">6\n",
       "</option><option value=\"7\">7\n",
       "</option><option value=\"8\">8\n",
       "</option><option value=\"9\">9\n",
       "</option><option value=\"10\">10\n",
       "</option><option value=\"11\">11\n",
       "</option><option value=\"12\">12\n",
       "</option><option value=\"13\">13\n",
       "</option><option value=\"14\">14\n",
       "</option><option value=\"15\">15\n",
       "</option><option value=\"16\">16\n",
       "</option><option value=\"17\">17\n",
       "</option><option value=\"18\">18\n",
       "</option><option value=\"19\">19\n",
       "</option><option value=\"20\">20\n",
       "</option><option value=\"21\">21\n",
       "</option><option value=\"22\">22\n",
       "</option><option value=\"23\">23\n",
       "</option><option value=\"24\">24\n",
       "</option><option value=\"25\">25\n",
       "</option><option value=\"26\">26\n",
       "</option><option value=\"27\">27\n",
       "</option><option value=\"28\">28\n",
       "</option><option value=\"29\">29\n",
       "</option><option value=\"30\">30\n",
       "</option><option value=\"31\">31\n",
       "</option></select>\n",
       "\n",
       "Year:\n",
       "<select id=\"endYear\" name=\"endYear\">\n",
       "<option value=\"0000\">----\n",
       "</option><option value=\"2009\">2009\n",
       "</option><option value=\"2010\">2010\n",
       "</option><option value=\"2011\">2011\n",
       "</option><option value=\"2012\">2012\n",
       "</option><option value=\"2013\">2013\n",
       "</option><option value=\"2014\">2014\n",
       "</option><option value=\"2015\">2015\n",
       "</option><option value=\"2016\">2016\n",
       "</option><option value=\"2017\">2017\n",
       "</option></select>\n",
       "</td></tr>\n",
       "</tbody></table>\n",
       "\n",
       "\n",
       "<!-- cut and paste PHP code above this line into your form -->\n",
       "<br/>\n",
       "  \n",
       "<input name=\"station\" type=\"hidden\" value=\"45176\"/><input type=\"submit\" value=\"Get Data\"/>\n",
       "</form>"
      ]
     },
     "execution_count": 7,
     "metadata": {},
     "output_type": "execute_result"
    }
   ],
   "source": [
    "a = soup.find('form', attrs={'id':'dateForm'})\n",
    "b = a"
   ]
  },
  {
   "cell_type": "code",
   "execution_count": null,
   "metadata": {
    "collapsed": true
   },
   "outputs": [],
   "source": []
  },
  {
   "cell_type": "code",
   "execution_count": null,
   "metadata": {
    "collapsed": true
   },
   "outputs": [],
   "source": []
  },
  {
   "cell_type": "code",
   "execution_count": null,
   "metadata": {
    "collapsed": true
   },
   "outputs": [],
   "source": []
  },
  {
   "cell_type": "code",
   "execution_count": null,
   "metadata": {
    "collapsed": true
   },
   "outputs": [],
   "source": []
  },
  {
   "cell_type": "code",
   "execution_count": 2,
   "metadata": {
    "collapsed": true
   },
   "outputs": [],
   "source": [
    "# The name on the page, the name we want to use\n",
    "columns_of_interest = {'ID': 'id', 'DATE': 'timestamp', 'YSIBGARFU': 'blue_green_algae',\n",
    "                      'YSITEMP': 'water_temperature'}"
   ]
  },
  {
   "cell_type": "code",
   "execution_count": null,
   "metadata": {
    "collapsed": true
   },
   "outputs": [],
   "source": []
  },
  {
   "cell_type": "code",
   "execution_count": null,
   "metadata": {
    "collapsed": true
   },
   "outputs": [],
   "source": []
  },
  {
   "cell_type": "code",
   "execution_count": null,
   "metadata": {
    "collapsed": true
   },
   "outputs": [],
   "source": []
  },
  {
   "cell_type": "code",
   "execution_count": 117,
   "metadata": {
    "collapsed": true
   },
   "outputs": [],
   "source": [
    "def update_df_to_floats(data, exclusion_list):\n",
    "    for column in data.columns:\n",
    "        if column not in exclusion_list:\n",
    "            data[column] = data[column].astype(float)\n",
    "    return data"
   ]
  },
  {
   "cell_type": "code",
   "execution_count": 177,
   "metadata": {
    "collapsed": true
   },
   "outputs": [],
   "source": [
    "def build_df_from_data_ta(raw_rows):\n",
    "    data = []\n",
    "    \n",
    "    headings = [_.text.split('(')[0] for _ in raw_rows[1].findAll('th')]\n",
    "    significant_columns = {}\n",
    "    for i, heading in enumerate(headings):\n",
    "        if heading in [_ for _ in columns_of_interest]:\n",
    "            significant_columns[i] = columns_of_interest[heading]\n",
    "    print(significant_columns)\n",
    "    for row_raw in raw_rows[2:]:\n",
    "\n",
    "        row = [_.text for _ in row_raw.findAll('td')]\n",
    "        data.append({significant_columns[column]: row[column] for column in significant_columns.keys()})\n",
    "    data = pd.DataFrame(data)\n",
    "    data = data.replace(to_replace=r'-', value=np.nan).replace(to_replace=r'---', value=np.nan)\n",
    "    # data = update_df_to_floats(data, ['id', 'mean_wave_direction', 'wind_direction', 'timestamp'])\n",
    "    # data['timestamp'] = pd.to_datetime(data['timestamp'])\n",
    "    return data"
   ]
  },
  {
   "cell_type": "code",
   "execution_count": 178,
   "metadata": {
    "collapsed": true
   },
   "outputs": [],
   "source": [
    "def scrape_buoy_data(buoy_id):\n",
    "    url = 'http://greatlakesbuoys.org/station_page.php?station=%s&unit=E&tz=CST' % str(buoy_id)\n",
    "    result = requests.get(url)\n",
    "    if result.status_code != 200:\n",
    "        print(\"error on status code\")\n",
    "    soup = BeautifulSoup(result.content, \"html5lib\")\n",
    "    raw_rows = soup.find(id=\"prevNObs\").find('table').findAll('tr')\n",
    "    data = build_df_from_data_ta(raw_rows)\n",
    "    data['buoy_id'] = buoy_id\n",
    "    return data"
   ]
  },
  {
   "cell_type": "code",
   "execution_count": 181,
   "metadata": {
    "scrolled": true
   },
   "outputs": [
    {
     "name": "stdout",
     "output_type": "stream",
     "text": [
      "{0: 'id', 1: 'timestamp', 22: 'water_temperature', 28: 'blue_green_algae'}\n"
     ]
    },
    {
     "data": {
      "text/html": [
       "<div>\n",
       "<style>\n",
       "    .dataframe thead tr:only-child th {\n",
       "        text-align: right;\n",
       "    }\n",
       "\n",
       "    .dataframe thead th {\n",
       "        text-align: left;\n",
       "    }\n",
       "\n",
       "    .dataframe tbody tr th {\n",
       "        vertical-align: top;\n",
       "    }\n",
       "</style>\n",
       "<table border=\"1\" class=\"dataframe\">\n",
       "  <thead>\n",
       "    <tr style=\"text-align: right;\">\n",
       "      <th></th>\n",
       "      <th>blue_green_algae</th>\n",
       "      <th>id</th>\n",
       "      <th>timestamp</th>\n",
       "      <th>water_temperature</th>\n",
       "      <th>buoy_id</th>\n",
       "    </tr>\n",
       "  </thead>\n",
       "  <tbody>\n",
       "    <tr>\n",
       "      <th>0</th>\n",
       "      <td>0.32</td>\n",
       "      <td>27324</td>\n",
       "      <td>05/08/2017 20:30:00</td>\n",
       "      <td>53.05</td>\n",
       "      <td>45176</td>\n",
       "    </tr>\n",
       "    <tr>\n",
       "      <th>1</th>\n",
       "      <td>0.32</td>\n",
       "      <td>27323</td>\n",
       "      <td>05/08/2017 20:20:00</td>\n",
       "      <td>53.05</td>\n",
       "      <td>45176</td>\n",
       "    </tr>\n",
       "    <tr>\n",
       "      <th>2</th>\n",
       "      <td>0.32</td>\n",
       "      <td>27322</td>\n",
       "      <td>05/08/2017 20:10:00</td>\n",
       "      <td>53.05</td>\n",
       "      <td>45176</td>\n",
       "    </tr>\n",
       "    <tr>\n",
       "      <th>3</th>\n",
       "      <td>0.32</td>\n",
       "      <td>27321</td>\n",
       "      <td>05/08/2017 20:00:00</td>\n",
       "      <td>53.05</td>\n",
       "      <td>45176</td>\n",
       "    </tr>\n",
       "    <tr>\n",
       "      <th>4</th>\n",
       "      <td>0.32</td>\n",
       "      <td>27320</td>\n",
       "      <td>05/08/2017 19:50:00</td>\n",
       "      <td>53.05</td>\n",
       "      <td>45176</td>\n",
       "    </tr>\n",
       "  </tbody>\n",
       "</table>\n",
       "</div>"
      ],
      "text/plain": [
       "  blue_green_algae     id            timestamp water_temperature  buoy_id\n",
       "0             0.32  27324  05/08/2017 20:30:00             53.05    45176\n",
       "1             0.32  27323  05/08/2017 20:20:00             53.05    45176\n",
       "2             0.32  27322  05/08/2017 20:10:00             53.05    45176\n",
       "3             0.32  27321  05/08/2017 20:00:00             53.05    45176\n",
       "4             0.32  27320  05/08/2017 19:50:00             53.05    45176"
      ]
     },
     "execution_count": 181,
     "metadata": {},
     "output_type": "execute_result"
    }
   ],
   "source": [
    "result = scrape_buoy_data(45176)\n",
    "result.head()"
   ]
  },
  {
   "cell_type": "code",
   "execution_count": null,
   "metadata": {
    "collapsed": true
   },
   "outputs": [],
   "source": []
  }
 ],
 "metadata": {
  "kernelspec": {
   "display_name": "Python 3",
   "language": "python",
   "name": "python3"
  },
  "language_info": {
   "codemirror_mode": {
    "name": "ipython",
    "version": 3
   },
   "file_extension": ".py",
   "mimetype": "text/x-python",
   "name": "python",
   "nbconvert_exporter": "python",
   "pygments_lexer": "ipython3",
   "version": "3.6.0"
  }
 },
 "nbformat": 4,
 "nbformat_minor": 2
}
