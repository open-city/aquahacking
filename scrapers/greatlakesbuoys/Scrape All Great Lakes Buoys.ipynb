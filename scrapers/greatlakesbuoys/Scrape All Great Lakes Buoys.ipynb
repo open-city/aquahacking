{
 "cells": [
  {
   "cell_type": "code",
   "execution_count": 2,
   "metadata": {
    "collapsed": true
   },
   "outputs": [],
   "source": [
    "import pandas as pd\n",
    "from bs4 import BeautifulSoup\n",
    "import requests\n",
    "import numpy as np"
   ]
  },
  {
   "cell_type": "code",
   "execution_count": 3,
   "metadata": {},
   "outputs": [
    {
     "name": "stdout",
     "output_type": "stream",
     "text": [
      "Skipping Erie\n",
      "Skipping Inland\n",
      "Skipping Michigan\n",
      "Skipping Superior\n",
      "['45020', '45176', '45165', '45169', '45164', 'crib', 'lsps', 'GLRCMET', 'UMBIO', '45161', '45170', '45174', '45026', '45029', '45168', '45175', '45007', '45002', '45022', '45024', '45023', '45025', '45173', '45171', '45172']\n"
     ]
    }
   ],
   "source": [
    "url = 'http://greatlakesbuoys.org'\n",
    "result = requests.get(url)\n",
    "if result.status_code != 200:\n",
    "    print(\"error on status code\")\n",
    "soup = BeautifulSoup(result.content, \"html5lib\")\n",
    "raw_rows = soup.find(\"table\", {\"class\" : \"table-header-rotated\"}).findAll('tr')[1:]\n",
    "buoy_ids = []\n",
    "for row_raw in raw_rows:\n",
    "    buoy_id = row_raw.findAll('td')[0].text\n",
    "    if (not buoy_id.isdigit()) and buoy_id not in ['crib', 'lsps', 'GLRCMET', 'UMBIO']:\n",
    "        print('Skipping ' + buoy_id)\n",
    "    else:\n",
    "        buoy_ids.append(buoy_id)\n",
    "print(buoy_ids)"
   ]
  },
  {
   "cell_type": "code",
   "execution_count": 4,
   "metadata": {},
   "outputs": [
    {
     "name": "stdout",
     "output_type": "stream",
     "text": [
      "{0: 'id', 1: 'timestamp', 14: 'blue_green_algae'}\n",
      "{0: 'id', 1: 'timestamp', 22: 'water_temperature', 28: 'blue_green_algae'}\n"
     ]
    }
   ],
   "source": [
    "%run 'Scrape Single Great Lakes Buoy.ipynb'"
   ]
  },
  {
   "cell_type": "code",
   "execution_count": 5,
   "metadata": {
    "scrolled": true
   },
   "outputs": [
    {
     "name": "stdout",
     "output_type": "stream",
     "text": [
      "{0: 'id', 1: 'timestamp'}\n",
      "{0: 'id', 1: 'timestamp', 22: 'water_temperature', 28: 'blue_green_algae'}\n",
      "{0: 'id', 1: 'timestamp', 38: 'blue_green_algae'}\n",
      "{0: 'id', 1: 'timestamp', 32: 'water_temperature'}\n",
      "{0: 'id', 1: 'timestamp', 20: 'water_temperature'}\n",
      "{0: 'id', 1: 'timestamp', 14: 'blue_green_algae'}\n",
      "{0: 'id', 1: 'timestamp', 14: 'blue_green_algae'}\n",
      "{0: 'id', 1: 'timestamp'}\n",
      "{0: 'id', 1: 'timestamp', 20: 'water_temperature'}\n",
      "{0: 'id', 1: 'timestamp'}\n",
      "{0: 'id', 1: 'timestamp'}\n",
      "{0: 'id', 1: 'timestamp'}\n",
      "{0: 'id', 1: 'timestamp', 108: 'water_temperature'}\n",
      "{0: 'id', 1: 'timestamp'}\n",
      "{0: 'id', 1: 'timestamp'}\n",
      "{0: 'id', 1: 'timestamp'}\n",
      "{0: 'id', 1: 'timestamp'}\n",
      "{0: 'id', 1: 'timestamp'}\n",
      "{0: 'id', 1: 'timestamp'}\n",
      "{0: 'id', 1: 'timestamp'}\n",
      "{0: 'id', 1: 'timestamp'}\n",
      "{0: 'id', 1: 'timestamp'}\n",
      "{0: 'id', 1: 'timestamp'}\n",
      "{0: 'id', 1: 'timestamp'}\n",
      "{0: 'id', 1: 'timestamp'}\n"
     ]
    },
    {
     "data": {
      "text/html": [
       "<div>\n",
       "<style>\n",
       "    .dataframe thead tr:only-child th {\n",
       "        text-align: right;\n",
       "    }\n",
       "\n",
       "    .dataframe thead th {\n",
       "        text-align: left;\n",
       "    }\n",
       "\n",
       "    .dataframe tbody tr th {\n",
       "        vertical-align: top;\n",
       "    }\n",
       "</style>\n",
       "<table border=\"1\" class=\"dataframe\">\n",
       "  <thead>\n",
       "    <tr style=\"text-align: right;\">\n",
       "      <th></th>\n",
       "      <th>blue_green_algae</th>\n",
       "      <th>buoy_id</th>\n",
       "      <th>id</th>\n",
       "      <th>timestamp</th>\n",
       "      <th>water_temperature</th>\n",
       "    </tr>\n",
       "  </thead>\n",
       "  <tbody>\n",
       "    <tr>\n",
       "      <th>0</th>\n",
       "      <td>NaN</td>\n",
       "      <td>45020</td>\n",
       "      <td>52245</td>\n",
       "      <td>11/10/2016 18:10:00</td>\n",
       "      <td>NaN</td>\n",
       "    </tr>\n",
       "    <tr>\n",
       "      <th>1</th>\n",
       "      <td>NaN</td>\n",
       "      <td>45020</td>\n",
       "      <td>52244</td>\n",
       "      <td>11/10/2016 18:00:00</td>\n",
       "      <td>NaN</td>\n",
       "    </tr>\n",
       "    <tr>\n",
       "      <th>2</th>\n",
       "      <td>NaN</td>\n",
       "      <td>45020</td>\n",
       "      <td>52243</td>\n",
       "      <td>11/10/2016 17:50:00</td>\n",
       "      <td>NaN</td>\n",
       "    </tr>\n",
       "    <tr>\n",
       "      <th>3</th>\n",
       "      <td>NaN</td>\n",
       "      <td>45020</td>\n",
       "      <td>52242</td>\n",
       "      <td>11/10/2016 17:40:00</td>\n",
       "      <td>NaN</td>\n",
       "    </tr>\n",
       "    <tr>\n",
       "      <th>4</th>\n",
       "      <td>NaN</td>\n",
       "      <td>45020</td>\n",
       "      <td>52241</td>\n",
       "      <td>11/10/2016 17:30:00</td>\n",
       "      <td>NaN</td>\n",
       "    </tr>\n",
       "  </tbody>\n",
       "</table>\n",
       "</div>"
      ],
      "text/plain": [
       "  blue_green_algae buoy_id     id            timestamp water_temperature\n",
       "0              NaN   45020  52245  11/10/2016 18:10:00               NaN\n",
       "1              NaN   45020  52244  11/10/2016 18:00:00               NaN\n",
       "2              NaN   45020  52243  11/10/2016 17:50:00               NaN\n",
       "3              NaN   45020  52242  11/10/2016 17:40:00               NaN\n",
       "4              NaN   45020  52241  11/10/2016 17:30:00               NaN"
      ]
     },
     "execution_count": 5,
     "metadata": {},
     "output_type": "execute_result"
    }
   ],
   "source": [
    "data = None\n",
    "for buoy_id in buoy_ids:\n",
    "    this_buoy = scrape_buoy_data(buoy_id)\n",
    "    # print(this_buoy)\n",
    "    if data is not None:\n",
    "        data = data.append(this_buoy)\n",
    "    else:\n",
    "        data = this_buoy\n",
    "data = data.reset_index(drop=True)\n",
    "data.head()"
   ]
  },
  {
   "cell_type": "code",
   "execution_count": 6,
   "metadata": {},
   "outputs": [
    {
     "data": {
      "text/plain": [
       "750"
      ]
     },
     "execution_count": 6,
     "metadata": {},
     "output_type": "execute_result"
    }
   ],
   "source": [
    "len(data)"
   ]
  }
 ],
 "metadata": {
  "kernelspec": {
   "display_name": "Python 3",
   "language": "python",
   "name": "python3"
  },
  "language_info": {
   "codemirror_mode": {
    "name": "ipython",
    "version": 3
   },
   "file_extension": ".py",
   "mimetype": "text/x-python",
   "name": "python",
   "nbconvert_exporter": "python",
   "pygments_lexer": "ipython3",
   "version": "3.6.0"
  }
 },
 "nbformat": 4,
 "nbformat_minor": 2
}
